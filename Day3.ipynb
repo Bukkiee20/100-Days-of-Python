{
 "cells": [
  {
   "cell_type": "markdown",
   "id": "96e72fa0",
   "metadata": {},
   "source": [
    "### CONTROL FLOW"
   ]
  },
  {
   "cell_type": "code",
   "execution_count": 2,
   "id": "16e6add3",
   "metadata": {},
   "outputs": [
    {
     "name": "stdout",
     "output_type": "stream",
     "text": [
      "Welcome to the rollercoaster!\n",
      "What is your height in cm?150\n",
      "You can ride the rollercoaster!\n"
     ]
    }
   ],
   "source": [
    "print(\"Welcome to the rollercoaster!\")\n",
    "height = int(input(\"What is your height in cm?\"))\n",
    "\n",
    "if height >= 120:\n",
    "    print(\"You can ride the rollercoaster!\")\n",
    "else:\n",
    "    print(\"Sorry, you have to grow taller before you can ride\")"
   ]
  },
  {
   "cell_type": "code",
   "execution_count": 5,
   "id": "95b5fcc5",
   "metadata": {},
   "outputs": [
    {
     "name": "stdout",
     "output_type": "stream",
     "text": [
      "Which number do you want to change? 53\n",
      "This is an odd number.\n"
     ]
    }
   ],
   "source": [
    "number = int(input(\"Which number do you want to change? \"))\n",
    "\n",
    "if number % 2 == 0:\n",
    "    print(\"This is an even number.\")\n",
    "else:\n",
    "    print(\"This is an odd number.\")"
   ]
  },
  {
   "cell_type": "markdown",
   "id": "4981b559",
   "metadata": {},
   "source": [
    "#### NESTED IF/ELSE"
   ]
  },
  {
   "cell_type": "code",
   "execution_count": 35,
   "id": "d636215a",
   "metadata": {},
   "outputs": [
    {
     "name": "stdout",
     "output_type": "stream",
     "text": [
      "Welcome to the rollercoaster!\n",
      "What is your height in cm?\n",
      "190\n",
      "You can ride the rollercoaster!\n",
      "\n",
      "What is your age?\n",
      "48\n",
      "Everything is going to be ok. Have a free ride on us!\n",
      "Do you want a photo taken? Y or N.\n",
      "Y\n",
      "Your final bill is $3\n"
     ]
    }
   ],
   "source": [
    "print(\"Welcome to the rollercoaster!\")\n",
    "height = int(input(\"What is your height in cm?\\n\"))\n",
    "bill = 0\n",
    "\n",
    "if height >= 120:\n",
    "    print(\"You can ride the rollercoaster!\\n\")\n",
    "    \n",
    "    age = int(input(\"What is your age?\\n\"))\n",
    "    \n",
    "    if age < 12:\n",
    "        bill = 5\n",
    "        print(f\"Child tickets are ${bill}\")\n",
    "    elif age <= 18:\n",
    "        bill = 7\n",
    "        print(f\"Youth tickets are ${bill}\")\n",
    "    elif age >= 45 and age <= 55:\n",
    "        print(f\"Everything is going to be ok. Have a free ride on us!\")\n",
    "    else:\n",
    "        bill = 12\n",
    "        print(f\"Adults ticket are ${bill}\")\n",
    "    \n",
    "    photo = input(\"Do you want a photo taken? Y or N.\\n\")\n",
    "    if photo == \"Y\":\n",
    "        bill += 3\n",
    "    print(f\"Your final bill is ${bill}\")\n",
    "    \n",
    "else:\n",
    "    print(\"Sorry, you have to grow taller before you can ride\")"
   ]
  },
  {
   "cell_type": "markdown",
   "id": "55a585ef",
   "metadata": {},
   "source": [
    "### Advanced BMI Calculator"
   ]
  },
  {
   "cell_type": "code",
   "execution_count": 12,
   "id": "eca91556",
   "metadata": {},
   "outputs": [
    {
     "name": "stdout",
     "output_type": "stream",
     "text": [
      "Enter your height in m: 1.75\n",
      "Enter your weight in kg: 80\n",
      "Your bmi is 26, You are overweight\n"
     ]
    }
   ],
   "source": [
    "height = float(input(\"Enter your height in m: \"))\n",
    "weight = float(input(\"Enter your weight in kg: \"))\n",
    "\n",
    "bmi = round(weight / height ** 2)\n",
    "\n",
    "if bmi < 18.5:\n",
    "    print(f\"Your bmi is {bmi}, You are underweight\")\n",
    "elif bmi < 25:\n",
    "    print(f\"Your bmi is {bmi}, You have a normal weight\")\n",
    "elif bmi < 30:\n",
    "    print(f\"Your bmi is {bmi}, You are overweight\")\n",
    "elif bmi < 35:\n",
    "    print(f\"Your bmi is {bmi}, You are obese\")\n",
    "else:\n",
    "    print(f\"Your bmi is {bmi}, You are clinically obese\") "
   ]
  },
  {
   "cell_type": "markdown",
   "id": "8722619b",
   "metadata": {},
   "source": [
    "### Leap Year Calculator"
   ]
  },
  {
   "cell_type": "code",
   "execution_count": 24,
   "id": "da6eb01f",
   "metadata": {},
   "outputs": [
    {
     "name": "stdout",
     "output_type": "stream",
     "text": [
      "Which year do you want to check: \n",
      "2000\n",
      "Leap year\n"
     ]
    }
   ],
   "source": [
    "year = int(input(\"Which year do you want to check: \\n\"))\n",
    "\n",
    "if year % 4 == 0:\n",
    "    if year % 100 == 0:\n",
    "        if year % 400 == 0:\n",
    "            print(\"Leap year\")\n",
    "        else:\n",
    "            print(\"Not a Leap year\")\n",
    "    else:\n",
    "        print(\"Leap year\")\n",
    "else:\n",
    "    print(\"Not a Leap year\")"
   ]
  },
  {
   "cell_type": "markdown",
   "id": "ae53a5a2",
   "metadata": {},
   "source": [
    "### Pizza Order"
   ]
  },
  {
   "cell_type": "code",
   "execution_count": 34,
   "id": "47dfc458",
   "metadata": {},
   "outputs": [
    {
     "name": "stdout",
     "output_type": "stream",
     "text": [
      "Welcome to Python Pizza Deliveries!\n",
      "What size of pizza do you want? S, M or L \n",
      "L\n",
      "Do you want pepperoni? Y or N \n",
      "Y\n",
      "Do you want extra cheese? Y or N \n",
      "Y\n",
      "Your total bill is $29\n"
     ]
    }
   ],
   "source": [
    "print(\"Welcome to Python Pizza Deliveries!\")\n",
    "size = input(\"What size of pizza do you want? S, M or L \\n\")\n",
    "add_pepperoni = input(\"Do you want pepperoni? Y or N \\n\")\n",
    "extra_cheese = input(\"Do you want extra cheese? Y or N \\n\")\n",
    "bill = 0\n",
    "\n",
    "if size == \"S\":\n",
    "    bill += 15\n",
    "\n",
    "elif size == \"M\":\n",
    "    bill += 20\n",
    "    \n",
    "else:\n",
    "    bill += 25\n",
    "    \n",
    "if add_pepperoni == \"Y\":\n",
    "    if size == \"S\":\n",
    "        bill += 2\n",
    "        \n",
    "    else:\n",
    "        bill += 3\n",
    "        \n",
    "if extra_cheese == \"Y\":\n",
    "    bill += 1\n",
    "    \n",
    "print(f\"Your total bill is ${bill}\")"
   ]
  },
  {
   "cell_type": "markdown",
   "id": "5ece0b61",
   "metadata": {},
   "source": [
    "### LOVE CALCULATOR"
   ]
  },
  {
   "cell_type": "code",
   "execution_count": 61,
   "id": "b1a554a1",
   "metadata": {},
   "outputs": [
    {
     "name": "stdout",
     "output_type": "stream",
     "text": [
      "Welcome to the Love Calculator!\n",
      "What is your name? \n",
      "Bukky\n",
      "What is their name? \n",
      "Whatever\n",
      "Your score is 53%\n"
     ]
    }
   ],
   "source": [
    "print(\"Welcome to the Love Calculator!\")\n",
    "name1 = input(\"What is your name? \\n\")\n",
    "name2 = input(\"What is their name? \\n\")\n",
    "\n",
    "name3 = name1 + name2\n",
    "name_conv= name3.lower()\n",
    "\n",
    "\n",
    "t_count = name_conv.count(\"t\")\n",
    "r_count = name_conv.count(\"r\")\n",
    "u_count = name_conv.count(\"u\")\n",
    "e_count = name_conv.count(\"e\")\n",
    "\n",
    "l_count = name_conv.count(\"l\")\n",
    "o_count = name_conv.count(\"o\")\n",
    "v_count = name_conv.count(\"v\")\n",
    "e_count = name_conv.count(\"e\")\n",
    "\n",
    "true = str(t_count + r_count + u_count + e_count)\n",
    "love = str(l_count + o_count + v_count + e_count)\n",
    "\n",
    "love_score = int(true + love)\n",
    "\n",
    "\n",
    "if love_score < 10 and love_score > 90:\n",
    "    print(f\"Your score is {love_score}%, you go together like coke and mentos.\")\n",
    "elif love_score >= 40 and love_score <= 50:\n",
    "    print(f\"Your score is {love_score}%, you are alright together.\")\n",
    "else:\n",
    "    print(f\"Your score is {love_score}%\")"
   ]
  }
 ],
 "metadata": {
  "kernelspec": {
   "display_name": "Python 3 (ipykernel)",
   "language": "python",
   "name": "python3"
  },
  "language_info": {
   "codemirror_mode": {
    "name": "ipython",
    "version": 3
   },
   "file_extension": ".py",
   "mimetype": "text/x-python",
   "name": "python",
   "nbconvert_exporter": "python",
   "pygments_lexer": "ipython3",
   "version": "3.10.11"
  }
 },
 "nbformat": 4,
 "nbformat_minor": 5
}
