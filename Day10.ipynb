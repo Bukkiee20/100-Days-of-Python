{
 "cells": [
  {
   "cell_type": "markdown",
   "id": "5b8c0675",
   "metadata": {},
   "source": [
    "### FUNCTIONS WITH OUTPUTS"
   ]
  },
  {
   "cell_type": "code",
   "execution_count": 42,
   "id": "adf6f9b4",
   "metadata": {},
   "outputs": [],
   "source": [
    "from IPython.display import clear_output"
   ]
  },
  {
   "cell_type": "code",
   "execution_count": 1,
   "id": "264ed18c",
   "metadata": {},
   "outputs": [
    {
     "name": "stdout",
     "output_type": "stream",
     "text": [
      "Angela Yu\n"
     ]
    }
   ],
   "source": [
    "def format_name(f_name,l_name):\n",
    "    formated_f_name = f_name.title()\n",
    "    formated_l_name = l_name.title()\n",
    "    return f\"{formated_f_name} {formated_l_name}\"\n",
    "\n",
    "print(format_name(\"AnGela\", \"YU\"))"
   ]
  },
  {
   "cell_type": "markdown",
   "id": "a3842f90",
   "metadata": {},
   "source": [
    "### MULTIPLE RETURN VALUES"
   ]
  },
  {
   "cell_type": "code",
   "execution_count": 7,
   "id": "4e206095",
   "metadata": {},
   "outputs": [
    {
     "name": "stdout",
     "output_type": "stream",
     "text": [
      "What is your first name?B\n",
      "What is your last name?\n",
      "You didnt provide valid inputs\n"
     ]
    }
   ],
   "source": [
    "def format_name(f_name,l_name):\n",
    "    if f_name == \"\" or l_name ==\"\":\n",
    "        return \"You didnt provide valid inputs\"\n",
    "    formated_f_name = f_name.title()\n",
    "    formated_l_name = l_name.title()\n",
    "    return f\"{formated_f_name} {formated_l_name}\"\n",
    "\n",
    "print(format_name(input(\"What is your first name?\"), input(\"What is your last name?\")))"
   ]
  },
  {
   "cell_type": "code",
   "execution_count": 16,
   "id": "5baaaf84",
   "metadata": {},
   "outputs": [
    {
     "name": "stdout",
     "output_type": "stream",
     "text": [
      "Enter a year: 2022\n",
      "Enter a month: 2\n",
      "28\n"
     ]
    }
   ],
   "source": [
    "def is_leap(year):\n",
    "    if year % 4 == 0:\n",
    "        if year % 100 == 0:\n",
    "            if year % 400 == 0:\n",
    "                return True\n",
    "            else:\n",
    "                return False\n",
    "        else:\n",
    "            return True\n",
    "    else:\n",
    "        return False\n",
    "    \n",
    "def days_in_month(year, month):\n",
    "    if month > 12 or month < 1:\n",
    "        return \"Invalid month\"\n",
    "    month_days = [31, 28, 31, 30, 30, 31, 31, 30]\n",
    "    if is_leap(year) and month == 2:\n",
    "        return 29\n",
    "    return month_days[month - 1]   \n",
    "    \n",
    "year = int(input(\"Enter a year: \"))\n",
    "month = int(input(\"Enter a month: \"))\n",
    "days = days_in_month(year, month)\n",
    "print(days)"
   ]
  },
  {
   "cell_type": "markdown",
   "id": "681ad647",
   "metadata": {},
   "source": [
    "### DOCSTRINGS"
   ]
  },
  {
   "cell_type": "code",
   "execution_count": 17,
   "id": "fc29af6b",
   "metadata": {},
   "outputs": [
    {
     "name": "stdout",
     "output_type": "stream",
     "text": [
      "What is your first name?jlk\n",
      "What is your last name?TRY\n",
      "Jlk Try\n"
     ]
    }
   ],
   "source": [
    "def format_name(f_name,l_name):\n",
    "    \"\"\"Returns the title case of a string\"\"\"\n",
    "    if f_name == \"\" or l_name ==\"\":\n",
    "        return \"You didnt provide valid inputs\"\n",
    "    formated_f_name = f_name.title()\n",
    "    formated_l_name = l_name.title()\n",
    "    return f\"{formated_f_name} {formated_l_name}\"\n",
    "\n",
    "print(format_name(input(\"What is your first name?\"), input(\"What is your last name?\")))"
   ]
  },
  {
   "cell_type": "markdown",
   "id": "611528df",
   "metadata": {},
   "source": [
    "### CALCULATOR"
   ]
  },
  {
   "cell_type": "code",
   "execution_count": null,
   "id": "ea1fa8b0",
   "metadata": {},
   "outputs": [
    {
     "name": "stdout",
     "output_type": "stream",
     "text": [
      "What's the first number?2.5\n",
      "+\n",
      "-\n",
      "*\n",
      "/\n",
      "Pick an operation: *\n",
      "What's the next number?5\n",
      "2.5 * 5.0 = 12.5\n"
     ]
    }
   ],
   "source": [
    "def add(num1, num2):\n",
    "    return  num1 + num2\n",
    "\n",
    "def subtract(num1, num2):\n",
    "    return  num1 - num2\n",
    "\n",
    "def multiply(num1, num2):\n",
    "    return  num1 * num2\n",
    "\n",
    "\n",
    "def divide(num1, num2):\n",
    "    return  num1 / num2\n",
    "\n",
    "operations = {\n",
    "    \"+\": add,\n",
    "    \"-\": subtract,\n",
    "    \"*\": multiply,\n",
    "    \"/\": divide\n",
    "}\n",
    "\n",
    "\n",
    "def calculator():\n",
    "    num1 = float(input(\"What's the first number?\"))\n",
    "\n",
    "    for symbol in operations:\n",
    "        print(symbol)\n",
    "\n",
    "    should_continue = True\n",
    "    while should_continue:\n",
    "        operation_symbol = input(\"Pick an operation: \")\n",
    "\n",
    "        num2 = float(input(\"What's the next number?\"))\n",
    "\n",
    "        calculation_function = operations[operation_symbol]\n",
    "        answer = calculation_function(num1, num2)\n",
    "\n",
    "        print(f\"{num1} {operation_symbol} {num2} = {answer}\")\n",
    "\n",
    "        response = input(f\"Type 'y' to continue calculating with {answer}, or type 'n' to start a new calculation: \")\n",
    "        if response == \"y\":\n",
    "            num1 = answer\n",
    "        else:\n",
    "            should_continue = False\n",
    "            clear_output()\n",
    "            calculator()\n",
    "\n",
    "calculator()"
   ]
  },
  {
   "cell_type": "code",
   "execution_count": null,
   "id": "7694b6c3",
   "metadata": {},
   "outputs": [],
   "source": []
  },
  {
   "cell_type": "code",
   "execution_count": null,
   "id": "fdcdbeac",
   "metadata": {},
   "outputs": [],
   "source": []
  }
 ],
 "metadata": {
  "kernelspec": {
   "display_name": "Python 3 (ipykernel)",
   "language": "python",
   "name": "python3"
  },
  "language_info": {
   "codemirror_mode": {
    "name": "ipython",
    "version": 3
   },
   "file_extension": ".py",
   "mimetype": "text/x-python",
   "name": "python",
   "nbconvert_exporter": "python",
   "pygments_lexer": "ipython3",
   "version": "3.10.11"
  }
 },
 "nbformat": 4,
 "nbformat_minor": 5
}
