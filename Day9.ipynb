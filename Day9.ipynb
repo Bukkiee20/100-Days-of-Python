{
 "cells": [
  {
   "cell_type": "markdown",
   "id": "eef17a24",
   "metadata": {},
   "source": [
    "### DICTIONARIES"
   ]
  },
  {
   "cell_type": "markdown",
   "id": "313b4d17",
   "metadata": {},
   "source": [
    "#### GRADING PROGRAM EXERCISE"
   ]
  },
  {
   "cell_type": "code",
   "execution_count": 5,
   "id": "310b1cb2",
   "metadata": {},
   "outputs": [
    {
     "name": "stdout",
     "output_type": "stream",
     "text": [
      "{'Harry': 'Exceeds Expectations', 'Ron': 'Acceptable', 'Hermione': 'Outstanding', 'Draco': 'Acceptable', 'Neville': 'Fail'}\n"
     ]
    }
   ],
   "source": [
    "student_scores = {\n",
    "    \"Harry\": 81,\n",
    "    \"Ron\": 78,\n",
    "    \"Hermione\": 99,\n",
    "    \"Draco\": 74,\n",
    "    \"Neville\": 62,\n",
    "}\n",
    "\n",
    "student_grades = {}\n",
    "\n",
    "for student in student_scores:\n",
    "    score = student_scores[student]\n",
    "    if score > 90:\n",
    "        student_grades[student] = \"Outstanding\"\n",
    "    elif score > 80:\n",
    "        student_grades[student] = \"Exceeds Expectations\"\n",
    "    elif score > 70:\n",
    "        student_grades[student] = \"Acceptable\"\n",
    "    else:\n",
    "        student_grades[student] = \"Fail\"\n",
    "        \n",
    "print(student_grades)"
   ]
  },
  {
   "cell_type": "code",
   "execution_count": 6,
   "id": "13267a16",
   "metadata": {
    "scrolled": false
   },
   "outputs": [
    {
     "data": {
      "text/plain": [
       "81"
      ]
     },
     "execution_count": 6,
     "metadata": {},
     "output_type": "execute_result"
    }
   ],
   "source": [
    "student_scores[\"Harry\"]"
   ]
  },
  {
   "cell_type": "markdown",
   "id": "f61abd19",
   "metadata": {},
   "source": [
    "### NESTING A LIST IN A DICTIONARY"
   ]
  },
  {
   "cell_type": "code",
   "execution_count": 1,
   "id": "710fa4fc",
   "metadata": {},
   "outputs": [],
   "source": [
    "capitals = {\n",
    "    \"France\": \"Paris\",\n",
    "    \"Germany\": \"Berlin\",\n",
    "}"
   ]
  },
  {
   "cell_type": "code",
   "execution_count": 2,
   "id": "03da4c57",
   "metadata": {},
   "outputs": [],
   "source": [
    "travel_log = {\n",
    "    \"France\": {\n",
    "        \"cities_visited\": [\"Paris\", \"Lille\", \"Dijon\"],\n",
    "        \"total_visits\": 12,\n",
    "    },\n",
    "    \"Germany\":{\n",
    "        \"cities_visited\": [\"Berlin\", \"Hamburg\", \"Stuttgart\"],\n",
    "        \"total_visits\": 5,\n",
    "         \n",
    "    },\n",
    "}"
   ]
  },
  {
   "cell_type": "code",
   "execution_count": 3,
   "id": "b7e68215",
   "metadata": {
    "scrolled": true
   },
   "outputs": [
    {
     "name": "stdout",
     "output_type": "stream",
     "text": [
      "France\n",
      "Germany\n"
     ]
    }
   ],
   "source": [
    "for countries in travel_log:\n",
    "    print(countries)"
   ]
  },
  {
   "cell_type": "markdown",
   "id": "253dc182",
   "metadata": {},
   "source": [
    "### NESTING A DICTIONARY IN A LIST"
   ]
  },
  {
   "cell_type": "code",
   "execution_count": 4,
   "id": "a11656d3",
   "metadata": {},
   "outputs": [],
   "source": [
    "travel_log = [\n",
    "    {\n",
    "        \"country\": \"France\",\n",
    "        \"cities\": [\"Paris\", \"Lille\", \"Dijon\"],\n",
    "        \"visits\": 12,\n",
    "    },\n",
    "    {\n",
    "        \"country\": \"Germany\",\n",
    "        \"cities\": [\"Berlin\", \"Hamburg\", \"Stuttgart\"],\n",
    "        \"visits\": 5,  \n",
    "    },\n",
    "]"
   ]
  },
  {
   "cell_type": "code",
   "execution_count": 7,
   "id": "a8b51f92",
   "metadata": {},
   "outputs": [],
   "source": [
    "def add_new_country(country, cities, visits):\n",
    "    new_entry= {}\n",
    "    new_entry[\"country\"] = country\n",
    "    new_entry[\"cities\"] = cities\n",
    "    new_entry[\"visits\"] = visits\n",
    "    travel_log.append(new_entry)\n",
    "    print(travel_log)"
   ]
  },
  {
   "cell_type": "code",
   "execution_count": 9,
   "id": "5956d986",
   "metadata": {},
   "outputs": [
    {
     "name": "stdout",
     "output_type": "stream",
     "text": [
      "[{'country': 'France', 'cities_visited': ['Paris', 'Lille', 'Dijon'], 'total_visits': 12}, {'country': 'Germany', 'cities_visited': ['Berlin', 'Hamburg', 'Stuttgart'], 'total_visits': 5}, {'country': 'Russia', 'cities': ['Moscow', 'Saint Petersbburg'], 'visits': 2}, {'country': 'Russia', 'cities': ['Moscow', 'Saint Petersburg'], 'visits': 2}]\n"
     ]
    }
   ],
   "source": [
    "add_new_country(\"Russia\",[\"Moscow\", \"Saint Petersburg\"], 2)"
   ]
  },
  {
   "cell_type": "code",
   "execution_count": 11,
   "id": "4a48b15b",
   "metadata": {
    "scrolled": true
   },
   "outputs": [
    {
     "name": "stdout",
     "output_type": "stream",
     "text": [
      "[{'country': 'France', 'cities_visited': ['Paris', 'Lille', 'Dijon'], 'total_visits': 12}, {'country': 'Germany', 'cities_visited': ['Berlin', 'Hamburg', 'Stuttgart'], 'total_visits': 5}, {'country': 'Russia', 'cities': ['Moscow', 'Saint Petersbburg'], 'visits': 2}, {'country': 'Russia', 'cities': ['Moscow', 'Saint Petersburg'], 'visits': 2}, {'country': 'Nigeria', 'cities': ['Osun', 'Abuja'], 'visits': 2}, {'country': 'Nigeria', 'cities': ['Osun', 'Abuja'], 'visits': 10}]\n"
     ]
    }
   ],
   "source": [
    "add_new_country(\"Nigeria\",[\"Osun\", \"Abuja\"], 10)"
   ]
  },
  {
   "cell_type": "markdown",
   "id": "e2524fff",
   "metadata": {},
   "source": [
    "### SECRET AUCTION PROGRAM"
   ]
  },
  {
   "cell_type": "code",
   "execution_count": 71,
   "id": "ab460ccd",
   "metadata": {},
   "outputs": [
    {
     "name": "stdout",
     "output_type": "stream",
     "text": [
      "The winner is Tope with a bid of $2000\n"
     ]
    }
   ],
   "source": [
    "from IPython.display import clear_output\n",
    "\n",
    "answer = False\n",
    "all_bidders = {}\n",
    "\n",
    "\n",
    "def bidding(bidding_record):\n",
    "    highest_bid = 0\n",
    "    winner = \"\"\n",
    "    for bidder in bidding_record:\n",
    "        bid_amount = bidding_record[bidder]\n",
    "        if bid_amount > highest_bid:\n",
    "            highest_bid = bid_amount\n",
    "            winner = bidder\n",
    "    print(f\"The winner is {winner} with a bid of ${highest_bid}\")\n",
    "\n",
    "\n",
    "while not answer:\n",
    "    name = input(\"What is your name? \\n\")\n",
    "    bid = int(input(\"How much are you bidding? $ \\n\"))\n",
    "    response = input(\"Are there any other bidders? Yes or No \\n\")\n",
    "    all_bidders[name] = bid\n",
    "\n",
    "    if response == \"No\":\n",
    "        answer = True\n",
    "        clear_output()\n",
    "        bidding(all_bidders)\n",
    "\n",
    "    elif response == \"Yes\":\n",
    "        clear_output() "
   ]
  }
 ],
 "metadata": {
  "kernelspec": {
   "display_name": "Python 3 (ipykernel)",
   "language": "python",
   "name": "python3"
  },
  "language_info": {
   "codemirror_mode": {
    "name": "ipython",
    "version": 3
   },
   "file_extension": ".py",
   "mimetype": "text/x-python",
   "name": "python",
   "nbconvert_exporter": "python",
   "pygments_lexer": "ipython3",
   "version": "3.10.11"
  }
 },
 "nbformat": 4,
 "nbformat_minor": 5
}
