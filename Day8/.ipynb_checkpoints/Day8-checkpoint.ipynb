{
 "cells": [
  {
   "cell_type": "markdown",
   "id": "66d8361f",
   "metadata": {},
   "source": [
    "### FUNCTIONS"
   ]
  },
  {
   "cell_type": "code",
   "execution_count": 13,
   "id": "eb68cf27",
   "metadata": {},
   "outputs": [],
   "source": [
    "import math"
   ]
  },
  {
   "cell_type": "code",
   "execution_count": 1,
   "id": "1de02b94",
   "metadata": {},
   "outputs": [
    {
     "name": "stdout",
     "output_type": "stream",
     "text": [
      "Hello\n",
      "How do you do?\n",
      "Isnt the weather nice today?\n"
     ]
    }
   ],
   "source": [
    "def greet():\n",
    "    print(\"Hello\")\n",
    "    print(\"How do you do?\")\n",
    "    print(\"Isnt the weather nice today?\")\n",
    "    \n",
    "greet()"
   ]
  },
  {
   "cell_type": "markdown",
   "id": "313997f9",
   "metadata": {},
   "source": [
    "### FUNCTIONS WITH INPUTS"
   ]
  },
  {
   "cell_type": "code",
   "execution_count": 4,
   "id": "da2790fe",
   "metadata": {},
   "outputs": [
    {
     "name": "stdout",
     "output_type": "stream",
     "text": [
      "Hello Bukola\n",
      "How do you do Bukola?\n"
     ]
    }
   ],
   "source": [
    "def greet_with_name(name):\n",
    "    print(f\"Hello {name}\")\n",
    "    print(f\"How do you do {name}?\")\n",
    "    \n",
    "greet_with_name(\"Bukola\")"
   ]
  },
  {
   "cell_type": "code",
   "execution_count": 6,
   "id": "f843dacf",
   "metadata": {},
   "outputs": [
    {
     "name": "stdout",
     "output_type": "stream",
     "text": [
      "Hello Bukola\n",
      "What is it like in Abuja?\n"
     ]
    }
   ],
   "source": [
    "def greet_with(name, location):\n",
    "    print(f\"Hello {name}\")\n",
    "    print(f\"What is it like in {location}?\")\n",
    "    \n",
    "greet_with(\"Bukola\", \"Abuja\")"
   ]
  },
  {
   "cell_type": "markdown",
   "id": "c249e6c5",
   "metadata": {},
   "source": [
    "### Functions with keyword arguments"
   ]
  },
  {
   "cell_type": "code",
   "execution_count": 7,
   "id": "c26a36fb",
   "metadata": {},
   "outputs": [
    {
     "name": "stdout",
     "output_type": "stream",
     "text": [
      "Hello Demola\n",
      "What is it like in Lagos?\n"
     ]
    }
   ],
   "source": [
    "def greet_with(name, location):\n",
    "    print(f\"Hello {name}\")\n",
    "    print(f\"What is it like in {location}?\")\n",
    "    \n",
    "greet_with(name = \"Demola\", location = \"Lagos\")"
   ]
  },
  {
   "cell_type": "markdown",
   "id": "fc69cd77",
   "metadata": {},
   "source": [
    "### Paint Area Calculator"
   ]
  },
  {
   "cell_type": "code",
   "execution_count": 14,
   "id": "33403209",
   "metadata": {},
   "outputs": [
    {
     "name": "stdout",
     "output_type": "stream",
     "text": [
      "Height of wall: 7\n",
      "Width of wall: 13\n",
      "You'll need 19 cans of paint.\n"
     ]
    }
   ],
   "source": [
    "test_h = int(input(\"Height of wall: \"))\n",
    "test_w = int(input(\"Width of wall: \"))\n",
    "coverage = 5\n",
    "\n",
    "def paint_calc(height, width, cover):\n",
    "    number_of_cans = math.ceil((height * width) / cover)\n",
    "    print(f\"You'll need {number_of_cans} cans of paint.\")\n",
    "\n",
    "paint_calc(height = test_h, width = test_w, cover = coverage)"
   ]
  },
  {
   "cell_type": "markdown",
   "id": "970b9d70",
   "metadata": {},
   "source": [
    "### Prime Number Checker"
   ]
  },
  {
   "cell_type": "code",
   "execution_count": 2,
   "id": "f6c531ac",
   "metadata": {},
   "outputs": [
    {
     "name": "stdout",
     "output_type": "stream",
     "text": [
      "Check this number: 6\n",
      "Its not a prime number\n"
     ]
    }
   ],
   "source": [
    "n= int(input(\"Check this number: \"))\n",
    "def prime_checker(number):\n",
    "    is_prime = True\n",
    "    for num in range(2, number):\n",
    "        if number % num == 0:\n",
    "            is_prime = False\n",
    "    if is_prime:\n",
    "        print(\"Its a prime number.\")\n",
    "    else:\n",
    "        print(\"Its not a prime number\")\n",
    "            \n",
    "prime_checker(number = n)        "
   ]
  },
  {
   "cell_type": "markdown",
   "id": "b934d989",
   "metadata": {},
   "source": [
    "### CAESER  CIPHER"
   ]
  },
  {
   "cell_type": "code",
   "execution_count": 31,
   "id": "667f4ed1",
   "metadata": {},
   "outputs": [
    {
     "name": "stdout",
     "output_type": "stream",
     "text": [
      "Type 'encode' to encrypt, type 'decode' to decrypt:\n",
      "decode\n",
      "Type your message:\n",
      "haqurg\n",
      "Type your shift number:\n",
      "6\n",
      "The decoded text is bukola\n"
     ]
    }
   ],
   "source": [
    "alphabet = [\"a\", \"b\", \"c\", \"d\",\"e\", \"f\", \"g\", \"h\", \"i\", \"j\", \"k\", \"l\", \"m\", \"n\", \"o\", \"p\",\"q\", \"r\", \"s\", \"t\", \"u\", \"v\", \"w\", \"x\",\"y\",\"z\",\"a\", \"b\", \"c\", \"d\",\"e\", \"f\", \"g\", \"h\", \"i\", \"j\", \"k\", \"l\", \"m\", \"n\", \"o\", \"p\",\"q\", \"r\", \"s\", \"t\", \"u\", \"v\", \"w\", \"x\",\"y\",\"z\"]\n",
    "\n",
    "direction = input(\"Type 'encode' to encrypt, type 'decode' to decrypt:\\n\")\n",
    "text = input(\"Type your message:\\n\").lower()\n",
    "shift = int(input(\"Type your shift number:\\n\"))\n",
    "\n",
    "def encrypt(plain_text, shift_amount):\n",
    "    cipher_text = \"\"\n",
    "    for letter in plain_text:\n",
    "        position= alphabet.index(letter)\n",
    "        new_position = position + shift_amount\n",
    "        new_letter = alphabet[new_position]\n",
    "        cipher_text += new_letter\n",
    "    print(f\"The encoded text is {cipher_text}\")\n",
    "    \n",
    "def decrypt(cipher_text, shift_amount):\n",
    "    plain_text = \"\"\n",
    "    for letter in cipher_text:\n",
    "        position= alphabet.index(letter)\n",
    "        new_position = position - shift_amount\n",
    "        new_letter = alphabet[new_position]\n",
    "        plain_text += new_letter\n",
    "    print(f\"The decoded text is {plain_text}\")\n",
    "    \n",
    "if direction == \"encode\":\n",
    "    encrypt(plain_text = text, shift_amount=shift)\n",
    "elif direction == \"decode\":\n",
    "    decrypt(cipher_text = text, shift_amount=shift)\n",
    "    \n",
    "def caesar(start_text, shift_amount, cipher_direction):\n",
    "   "
   ]
  },
  {
   "cell_type": "code",
   "execution_count": 7,
   "id": "df60534b",
   "metadata": {},
   "outputs": [
    {
     "name": "stdout",
     "output_type": "stream",
     "text": [
      "   \n",
      "        \n",
      " ,adPPYba, ,adPPYYba,  ,adPPYba, ,adPPYba, ,adPPYYba, 8b,dPPYba,  \n",
      "a8\"     \"\" \"\"     `Y8 a8P_____88 I8[    \"\" \"\"     `Y8 88P'   \"Y8  \n",
      "8b         ,adPPPPP88 8PP\"  `\"Y8ba,  ,adPPPPP88 88          \n",
      "\"8a,   ,aa 88,    ,88 \"8b,   ,aa aa    ]8I 88,    ,88 88          \n",
      " `\"Ybbd8\"' `\"8bbdP\"Y8  `\"Ybbd8\"' `\"YbbdP\"' `\"8bbdP\"Y8 88   \n",
      "            88             88                                 \n",
      "           \"\"             88                                 \n",
      "                          88                                 \n",
      " ,adPPYba, 88 8b,dPPYba,  88,dPPYba,   ,adPPYba, 8b,dPPYba,  \n",
      "a8\"     \"\" 88 88P'    \"8a 88P'    \"8a a8P_____88 88P'   \"Y8  \n",
      "8b         88 88       d8 88       88 8PP\" 88          \n",
      "\"8a,   ,aa 88 88b,   ,a8\" 88       88 \"8b,   ,aa 88          \n",
      " `\"Ybbd8\"' 88 88`YbbdP\"'  88       88  `\"Ybbd8\"' 88          \n",
      "              88                                             \n",
      "              88           \n",
      "\n",
      "\n",
      "Type 'encode' to encrypt, type 'decode' to decrypt:\n",
      "encode\n",
      "Type your message:\n",
      "bukola adeyooye\n",
      "Type your shift number:\n",
      "5\n",
      "The encoded text is gzptqf fijdttdj\n",
      "Type 'yes' if you want to go again. Otherwise type 'no'.\n",
      "yes\n",
      "Type 'encode' to encrypt, type 'decode' to decrypt:\n",
      "decode\n",
      "Type your message:\n",
      "gzptqf fijdttdj\n",
      "Type your shift number:\n",
      "5\n",
      "The decoded text is bukola adeyooye\n",
      "Type 'yes' if you want to go again. Otherwise type 'no'.\n",
      "no\n",
      "Goodbye\n"
     ]
    }
   ],
   "source": [
    "from art import logo\n",
    "\n",
    "print(logo)\n",
    "alphabet = [\"a\", \"b\", \"c\", \"d\",\"e\", \"f\", \"g\", \"h\", \"i\", \"j\", \"k\", \"l\", \"m\", \"n\", \"o\", \"p\",\"q\", \"r\", \"s\", \"t\", \"u\", \"v\", \"w\", \"x\",\"y\",\"z\",\"a\", \"b\", \"c\", \"d\",\"e\", \"f\", \"g\", \"h\", \"i\", \"j\", \"k\", \"l\", \"m\", \"n\", \"o\", \"p\",\"q\", \"r\", \"s\", \"t\", \"u\", \"v\", \"w\", \"x\",\"y\",\"z\"]\n",
    "\n",
    "should_continue = True\n",
    "while should_continue:\n",
    "\n",
    "    direction = input(\"Type 'encode' to encrypt, type 'decode' to decrypt:\\n\")\n",
    "    text = input(\"Type your message:\\n\").lower()\n",
    "    shift = int(input(\"Type your shift number:\\n\"))\n",
    "\n",
    "    shift = shift % 26\n",
    "\n",
    "    def caesar(start_text, shift_amount, cipher_direction):\n",
    "        end_text = \"\"\n",
    "        if direction == \"decode\":\n",
    "            shift_amount *= -1\n",
    "        for char in start_text:\n",
    "            if char in alphabet:\n",
    "                position = alphabet.index(char)\n",
    "                new_position = position + shift_amount\n",
    "                end_text += alphabet[new_position]\n",
    "            else:\n",
    "                end_text += char\n",
    "\n",
    "        print(f\"The {cipher_direction}d text is {end_text}\")\n",
    "\n",
    "    caesar(start_text = text, shift_amount = shift, cipher_direction = direction)\n",
    "    \n",
    "    result= input(f\"Type 'yes' if you want to go again. Otherwise type 'no'.\\n\")\n",
    "    if result == \"no\":\n",
    "        should_continue = False\n",
    "        print(\"Goodbye\")"
   ]
  }
 ],
 "metadata": {
  "kernelspec": {
   "display_name": "Python 3 (ipykernel)",
   "language": "python",
   "name": "python3"
  },
  "language_info": {
   "codemirror_mode": {
    "name": "ipython",
    "version": 3
   },
   "file_extension": ".py",
   "mimetype": "text/x-python",
   "name": "python",
   "nbconvert_exporter": "python",
   "pygments_lexer": "ipython3",
   "version": "3.10.11"
  }
 },
 "nbformat": 4,
 "nbformat_minor": 5
}
