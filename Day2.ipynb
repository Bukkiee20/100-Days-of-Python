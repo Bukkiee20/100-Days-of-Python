{
 "cells": [
  {
   "cell_type": "code",
   "execution_count": 1,
   "id": "e6db60b5",
   "metadata": {},
   "outputs": [
    {
     "name": "stdout",
     "output_type": "stream",
     "text": [
      "H\n"
     ]
    }
   ],
   "source": [
    "print(\"Hello\"[0])"
   ]
  },
  {
   "cell_type": "code",
   "execution_count": 2,
   "id": "51fdb18a",
   "metadata": {},
   "outputs": [
    {
     "name": "stdout",
     "output_type": "stream",
     "text": [
      "123456\n"
     ]
    }
   ],
   "source": [
    "print(\"123\" + \"456\")"
   ]
  },
  {
   "cell_type": "code",
   "execution_count": 3,
   "id": "ee1763c4",
   "metadata": {},
   "outputs": [
    {
     "name": "stdout",
     "output_type": "stream",
     "text": [
      "What is your name?Bukky\n",
      "<class 'int'>\n"
     ]
    }
   ],
   "source": [
    "num_char = len(input(\"What is your name?\"))\n",
    "print(type(num_char))"
   ]
  },
  {
   "cell_type": "code",
   "execution_count": 4,
   "id": "2717bd33",
   "metadata": {
    "scrolled": true
   },
   "outputs": [
    {
     "data": {
      "text/plain": [
       "str"
      ]
     },
     "execution_count": 4,
     "metadata": {},
     "output_type": "execute_result"
    }
   ],
   "source": [
    "#Type Conversion\n",
    "new_num_char = str(num_char)\n",
    "type(new_num_char)"
   ]
  },
  {
   "cell_type": "code",
   "execution_count": 8,
   "id": "f46bc747",
   "metadata": {},
   "outputs": [
    {
     "name": "stdout",
     "output_type": "stream",
     "text": [
      "Type a two digit number26\n",
      "8\n"
     ]
    }
   ],
   "source": [
    "two_digit_number = input(\"Type a two digit number\")\n",
    "first_digit = two_digit_number[0]\n",
    "second_digit = two_digit_number[1]\n",
    "\n",
    "result = int(first_digit) +int(second_digit)\n",
    "print(result)"
   ]
  },
  {
   "cell_type": "markdown",
   "id": "da3a5c1d",
   "metadata": {},
   "source": [
    "### BMI CALCULATOR"
   ]
  },
  {
   "cell_type": "code",
   "execution_count": 13,
   "id": "e6001680",
   "metadata": {},
   "outputs": [
    {
     "name": "stdout",
     "output_type": "stream",
     "text": [
      "Enter your height in m: 1.8\n",
      "Enter your weight in kg: 64\n",
      "19\n"
     ]
    }
   ],
   "source": [
    "height = float(input(\"Enter your height in m: \"))\n",
    "weight = float(input(\"Enter your weight in kg: \"))\n",
    "\n",
    "bmi = weight / height ** 2\n",
    "print(int(bmi))"
   ]
  },
  {
   "cell_type": "code",
   "execution_count": 14,
   "id": "771ecac9",
   "metadata": {},
   "outputs": [
    {
     "name": "stdout",
     "output_type": "stream",
     "text": [
      "1.0\n"
     ]
    }
   ],
   "source": [
    "result = 4 / 2\n",
    "result /= 2\n",
    "print(result)"
   ]
  },
  {
   "cell_type": "code",
   "execution_count": 15,
   "id": "f6232f0e",
   "metadata": {},
   "outputs": [
    {
     "name": "stdout",
     "output_type": "stream",
     "text": [
      "1\n"
     ]
    }
   ],
   "source": [
    "score = 0\n",
    "score += 1\n",
    "print(score)"
   ]
  },
  {
   "cell_type": "code",
   "execution_count": 16,
   "id": "37aa47e4",
   "metadata": {},
   "outputs": [
    {
     "name": "stdout",
     "output_type": "stream",
     "text": [
      "your score is 0, height is 1.8\n"
     ]
    }
   ],
   "source": [
    "#F STRINGS\n",
    "score = 0\n",
    "height = 1.8\n",
    "isWinning = True\n",
    "\n",
    "print(f\"your score is {score}, height is {height}\")"
   ]
  },
  {
   "cell_type": "code",
   "execution_count": 21,
   "id": "a06bea86",
   "metadata": {},
   "outputs": [
    {
     "name": "stdout",
     "output_type": "stream",
     "text": [
      "What is your current age? 67\n",
      "You have 8395 days, 1196 weeks, 276 months left\n"
     ]
    }
   ],
   "source": [
    "age = input(\"What is your current age? \")\n",
    "age_as_int = int(age)\n",
    "\n",
    "years_remaining = 90 - age_as_int\n",
    "days_remaining = years_remaining * 365\n",
    "weeks_remaining = years_remaining * 52\n",
    "months_remaining = years_remaining * 12\n",
    "\n",
    "print(f\"You have {days_remaining} days, {weeks_remaining} weeks, {months_remaining} months left\")"
   ]
  },
  {
   "cell_type": "markdown",
   "id": "76028a02",
   "metadata": {},
   "source": [
    "### TIP CALCULATOR"
   ]
  },
  {
   "cell_type": "code",
   "execution_count": 8,
   "id": "24aea5e4",
   "metadata": {},
   "outputs": [
    {
     "name": "stdout",
     "output_type": "stream",
     "text": [
      "Welcome to the tip calculator!\n",
      "What was the total bill? $500\n",
      "What percentage tip would you like to give? 10, 12 or 15?15\n",
      "How many people to split the bill? 2\n",
      "Each person should pay: $287.50\n"
     ]
    }
   ],
   "source": [
    "print(\"Welcome to the tip calculator!\")\n",
    "bill = float(input(\"What was the total bill? $\"))\n",
    "tip = int(input(\"What percentage tip would you like to give? 10, 12 or 15?\"))\n",
    "splitters = int(input(\"How many people to split the bill? \"))\n",
    "bill_with_tip = (tip/100 * bill) + bill\n",
    " \n",
    "amount_to_pay = round(bill_with_tip / splitters, 2)\n",
    "amount_to_pay = \"{:.2f}\".format(amount_to_pay)\n",
    "print(f\"Each person should pay: ${amount_to_pay}\")"
   ]
  },
  {
   "cell_type": "code",
   "execution_count": null,
   "id": "77a0664c",
   "metadata": {},
   "outputs": [],
   "source": []
  }
 ],
 "metadata": {
  "kernelspec": {
   "display_name": "Python 3 (ipykernel)",
   "language": "python",
   "name": "python3"
  },
  "language_info": {
   "codemirror_mode": {
    "name": "ipython",
    "version": 3
   },
   "file_extension": ".py",
   "mimetype": "text/x-python",
   "name": "python",
   "nbconvert_exporter": "python",
   "pygments_lexer": "ipython3",
   "version": "3.10.11"
  }
 },
 "nbformat": 4,
 "nbformat_minor": 5
}
