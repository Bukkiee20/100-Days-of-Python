{
 "cells": [
  {
   "cell_type": "markdown",
   "id": "b161c75f",
   "metadata": {},
   "source": [
    "### FOR LOOP"
   ]
  },
  {
   "cell_type": "code",
   "execution_count": 1,
   "id": "eaaf97ea",
   "metadata": {},
   "outputs": [
    {
     "name": "stdout",
     "output_type": "stream",
     "text": [
      "Apple\n",
      "Peach\n",
      "Pear\n"
     ]
    }
   ],
   "source": [
    "fruits = [\"Apple\", \"Peach\", \"Pear\"]\n",
    "\n",
    "for fruit in fruits:\n",
    "    print(fruit)"
   ]
  },
  {
   "cell_type": "markdown",
   "id": "43356eaa",
   "metadata": {},
   "source": [
    "### Average Height Exercise"
   ]
  },
  {
   "cell_type": "code",
   "execution_count": 10,
   "id": "47ecd11a",
   "metadata": {},
   "outputs": [
    {
     "name": "stdout",
     "output_type": "stream",
     "text": [
      "Input a list of student heights 156 178 165 171 187\n",
      "[156, 178, 165, 171, 187]\n",
      "857\n",
      "5\n",
      "171\n"
     ]
    }
   ],
   "source": [
    "student_heights = input(\"Input a list of student heights \").split()\n",
    "for n in range(0, len(student_heights)):\n",
    "    student_heights[n] = int(student_heights[n])\n",
    "print(student_heights)\n",
    "\n",
    "total_height = 0\n",
    "for height in student_heights:\n",
    "    total_height = total_height + height\n",
    "print(total_height)\n",
    "\n",
    "number_of_students = 0\n",
    "for student in student_heights:\n",
    "    number_of_students = number_of_students + 1\n",
    "print(number_of_students)\n",
    "\n",
    "average_height = round(total_height/number_of_students)\n",
    "print(average_height)"
   ]
  },
  {
   "cell_type": "markdown",
   "id": "c5a5582b",
   "metadata": {},
   "source": [
    "### High Score Exercise"
   ]
  },
  {
   "cell_type": "code",
   "execution_count": 13,
   "id": "bca7f3dd",
   "metadata": {},
   "outputs": [
    {
     "name": "stdout",
     "output_type": "stream",
     "text": [
      "Input a list of student scores 156 178 165 171 187\n",
      "[156, 178, 165, 171, 187]\n",
      "The highest score in the class is: 187\n"
     ]
    }
   ],
   "source": [
    "student_scores = input(\"Input a list of student scores \").split()\n",
    "for n in range(0, len(student_scores)):\n",
    "    student_scores[n] = int(student_scores[n])\n",
    "print(student_scores)\n",
    "\n",
    "highest_score = 0\n",
    "for score in student_scores:\n",
    "    if score > highest_score:\n",
    "        highest_score = score\n",
    "print(f\"The highest score in the class is: {highest_score}\")"
   ]
  },
  {
   "cell_type": "code",
   "execution_count": 19,
   "id": "1b55565d",
   "metadata": {},
   "outputs": [
    {
     "name": "stdout",
     "output_type": "stream",
     "text": [
      "2\n",
      "4\n",
      "6\n",
      "8\n"
     ]
    }
   ],
   "source": [
    "for number in range(2,10,2):\n",
    "    print(number)"
   ]
  },
  {
   "cell_type": "code",
   "execution_count": 15,
   "id": "6450fdcd",
   "metadata": {},
   "outputs": [
    {
     "name": "stdout",
     "output_type": "stream",
     "text": [
      "5050\n"
     ]
    }
   ],
   "source": [
    "total = 0\n",
    "for number in range(1,101):\n",
    "    total = total + number\n",
    "print(total)"
   ]
  },
  {
   "cell_type": "code",
   "execution_count": 20,
   "id": "0b1dd43c",
   "metadata": {},
   "outputs": [
    {
     "name": "stdout",
     "output_type": "stream",
     "text": [
      "2550\n"
     ]
    }
   ],
   "source": [
    "total = 0\n",
    "for number in range(2,101,2):\n",
    "    total = total + number\n",
    "print(total)"
   ]
  },
  {
   "cell_type": "markdown",
   "id": "3379fd20",
   "metadata": {},
   "source": [
    "### FIZZBUZZ EXERCISE"
   ]
  },
  {
   "cell_type": "code",
   "execution_count": 22,
   "id": "305b6893",
   "metadata": {},
   "outputs": [
    {
     "name": "stdout",
     "output_type": "stream",
     "text": [
      "1\n",
      "2\n",
      "Fizz\n",
      "4\n",
      "Buzz\n",
      "Fizz\n",
      "7\n",
      "8\n",
      "Fizz\n",
      "Buzz\n",
      "11\n",
      "Fizz\n",
      "13\n",
      "14\n",
      "FizzBuzz\n",
      "16\n",
      "17\n",
      "Fizz\n",
      "19\n",
      "Buzz\n",
      "Fizz\n",
      "22\n",
      "23\n",
      "Fizz\n",
      "Buzz\n",
      "26\n",
      "Fizz\n",
      "28\n",
      "29\n",
      "FizzBuzz\n",
      "31\n",
      "32\n",
      "Fizz\n",
      "34\n",
      "Buzz\n",
      "Fizz\n",
      "37\n",
      "38\n",
      "Fizz\n",
      "Buzz\n",
      "41\n",
      "Fizz\n",
      "43\n",
      "44\n",
      "FizzBuzz\n",
      "46\n",
      "47\n",
      "Fizz\n",
      "49\n",
      "Buzz\n",
      "Fizz\n",
      "52\n",
      "53\n",
      "Fizz\n",
      "Buzz\n",
      "56\n",
      "Fizz\n",
      "58\n",
      "59\n",
      "FizzBuzz\n",
      "61\n",
      "62\n",
      "Fizz\n",
      "64\n",
      "Buzz\n",
      "Fizz\n",
      "67\n",
      "68\n",
      "Fizz\n",
      "Buzz\n",
      "71\n",
      "Fizz\n",
      "73\n",
      "74\n",
      "FizzBuzz\n",
      "76\n",
      "77\n",
      "Fizz\n",
      "79\n",
      "Buzz\n",
      "Fizz\n",
      "82\n",
      "83\n",
      "Fizz\n",
      "Buzz\n",
      "86\n",
      "Fizz\n",
      "88\n",
      "89\n",
      "FizzBuzz\n",
      "91\n",
      "92\n",
      "Fizz\n",
      "94\n",
      "Buzz\n",
      "Fizz\n",
      "97\n",
      "98\n",
      "Fizz\n",
      "Buzz\n"
     ]
    }
   ],
   "source": [
    "for number in range(1,101):\n",
    "    if number % 3 == 0 and number % 5 == 0:\n",
    "        print(\"FizzBuzz\")\n",
    "    elif number % 3 == 0:\n",
    "        print(\"Fizz\")\n",
    "    elif number % 5 == 0:\n",
    "        print(\"Buzz\")\n",
    "    else:\n",
    "        print(number)"
   ]
  },
  {
   "cell_type": "code",
   "execution_count": 36,
   "id": "97b33a93",
   "metadata": {},
   "outputs": [],
   "source": [
    "import random as rd\n",
    "letters = [\"a\", \"b\", \"c\", \"d\", \"e\", \"f\", \"g\", \"h\", \"i\", \"j\", \"k\", \"l\", \"m\", \"n\", \"o\", \"p\", \"q\", \"r\", \"s\", \"t\", \"u\", \"v\",\n",
    "          \"w\", \"x\", \"y\", \"z\", \"A\", \"B\", \"C\", \"D\", \"E\", \"F\", \"G\", \"H\", \"I\", \"J\", \"K\", \"L\", \"M\", \"N\", \"O\", \"P\", \"Q\", \"R\",\n",
    "          \"S\", \"T\", \"U\", \"V\", \"W\", \"X\", \"Y\", \"Z\"]\n",
    "numbers = [\"0\", \"1\", \"2\", \"3\", \"4\", \"5\", \"6\", \"7\", \"8\", \"9\"]\n",
    "symbols = [\"!\", \"#\", \"$\", \"%\", \"&\", \"(\", \")\", \"*\", \"+\"]"
   ]
  },
  {
   "cell_type": "markdown",
   "id": "856048a2",
   "metadata": {},
   "source": [
    "### PASSWORD GENERATOR 1"
   ]
  },
  {
   "cell_type": "code",
   "execution_count": 35,
   "id": "863faa76",
   "metadata": {},
   "outputs": [
    {
     "name": "stdout",
     "output_type": "stream",
     "text": [
      "Welcome to the PyPassword Generator\n",
      "How many letters would you like in your password?\n",
      "6\n",
      "How many symbols would you like? \n",
      "2\n",
      "How many numbers would you like? \n",
      "1\n",
      "pvfjLJ4+$\n"
     ]
    }
   ],
   "source": [
    "print(\"Welcome to the PyPassword Generator\")\n",
    "nr_letters = int(input(\"How many letters would you like in your password?\\n\"))\n",
    "nr_numbers = int(input(f\"How many numbers would you like? \\n\"))\n",
    "nr_symbols = int(input(f\"How many symbols would you like? \\n\"))\n",
    "\n",
    "password = \"\"\n",
    "for letter in range(1, nr_letters + 1):\n",
    "    password = password + rd.choice(letters)\n",
    "    \n",
    "for number in range(1, nr_numbers + 1):\n",
    "    password = password + rd.choice(numbers)\n",
    "\n",
    "for symbol in range(1, nr_symbols + 1):\n",
    "    password = password + rd.choice(symbols)\n",
    "print(password)\n",
    "     "
   ]
  },
  {
   "cell_type": "markdown",
   "id": "eaebd48c",
   "metadata": {},
   "source": [
    "### PASSWORD GENERATOR 2"
   ]
  },
  {
   "cell_type": "code",
   "execution_count": 43,
   "id": "f773745a",
   "metadata": {
    "scrolled": true
   },
   "outputs": [
    {
     "name": "stdout",
     "output_type": "stream",
     "text": [
      "Welcome to the PyPassword Generator\n",
      "How many letters would you like in your password?\n",
      "4\n",
      "How many numbers would you like? \n",
      "4\n",
      "How many symbols would you like? \n",
      "2\n",
      "Your password is: 0B%30M+7zR\n"
     ]
    }
   ],
   "source": [
    "letters = [\"a\", \"b\", \"c\", \"d\", \"e\", \"f\", \"g\", \"h\", \"i\", \"j\", \"k\", \"l\", \"m\", \"n\", \"o\", \"p\", \"q\", \"r\", \"s\", \"t\", \"u\", \"v\",\n",
    "          \"w\", \"x\", \"y\", \"z\", \"A\", \"B\", \"C\", \"D\", \"E\", \"F\", \"G\", \"H\", \"I\", \"J\", \"K\", \"L\", \"M\", \"N\", \"O\", \"P\", \"Q\", \"R\",\n",
    "          \"S\", \"T\", \"U\", \"V\", \"W\", \"X\", \"Y\", \"Z\"]\n",
    "numbers = [\"0\", \"1\", \"2\", \"3\", \"4\", \"5\", \"6\", \"7\", \"8\", \"9\"]\n",
    "symbols = [\"!\", \"#\", \"$\", \"%\", \"&\", \"(\", \")\", \"*\", \"+\"]\n",
    "\n",
    "print(\"Welcome to the PyPassword Generator\")\n",
    "nr_letters = int(input(\"How many letters would you like in your password?\\n\"))\n",
    "nr_numbers = int(input(f\"How many numbers would you like? \\n\"))\n",
    "nr_symbols = int(input(f\"How many symbols would you like? \\n\"))\n",
    "\n",
    "passwordList = []\n",
    "for letter in range(1, nr_letters + 1):\n",
    "    passwordList.append(rd.choice(letters))\n",
    "    \n",
    "for number in range(1, nr_numbers + 1):\n",
    "    passwordList.append(rd.choice(numbers))\n",
    "\n",
    "for symbol in range(1, nr_symbols + 1):\n",
    "    passwordList.append(rd.choice(symbols))\n",
    "\n",
    "rd.shuffle(passwordList)\n",
    "\n",
    "password = \"\"\n",
    "for char in passwordList:\n",
    "    password += char\n",
    "    \n",
    "print(f\"Your password is: {password}\")\n",
    "    "
   ]
  },
  {
   "cell_type": "markdown",
   "id": "61f83f69",
   "metadata": {},
   "source": [
    "### FUNCTIONS"
   ]
  },
  {
   "cell_type": "code",
   "execution_count": null,
   "id": "d80f399c",
   "metadata": {},
   "outputs": [],
   "source": [
    "def my_function():\n",
    "    print(\"Hello\")\n",
    "    print(\"Bye\")\n",
    "    \n",
    "my_function()"
   ]
  },
  {
   "cell_type": "markdown",
   "id": "97b9d4de",
   "metadata": {},
   "source": [
    "### WHILE LOOP"
   ]
  },
  {
   "cell_type": "code",
   "execution_count": null,
   "id": "e69a2d88",
   "metadata": {},
   "outputs": [],
   "source": [
    "number_of_hurdles = 6\n",
    "while number_of_hurdles > 0:\n",
    "    number_of_hurdles -= 1\n",
    "    print(number_of_hurdles)"
   ]
  }
 ],
 "metadata": {
  "kernelspec": {
   "display_name": "Python 3 (ipykernel)",
   "language": "python",
   "name": "python3"
  },
  "language_info": {
   "codemirror_mode": {
    "name": "ipython",
    "version": 3
   },
   "file_extension": ".py",
   "mimetype": "text/x-python",
   "name": "python",
   "nbconvert_exporter": "python",
   "pygments_lexer": "ipython3",
   "version": "3.10.11"
  }
 },
 "nbformat": 4,
 "nbformat_minor": 5
}
