{
 "cells": [
  {
   "cell_type": "markdown",
   "id": "39aee461",
   "metadata": {},
   "source": [
    "### HIGHER-LOWER GAME PROJECT"
   ]
  },
  {
   "cell_type": "code",
   "execution_count": 2,
   "id": "b10cef7b",
   "metadata": {},
   "outputs": [],
   "source": [
    "from IPython.display import clear_output\n",
    "import random as rd\n",
    "from art import logo, vs\n",
    "from game_data import data"
   ]
  },
  {
   "cell_type": "code",
   "execution_count": 10,
   "id": "a9e627c4",
   "metadata": {},
   "outputs": [
    {
     "name": "stdout",
     "output_type": "stream",
     "text": [
      "\n",
      "    __  ___       __             \n",
      "   / / / (_)___ _/ /_  ___  _____\n",
      "  / /_/ / / __ `/ __ \\/ _ \\/ ___/\n",
      " / __  / / /_/ / / / /  __/ /    \n",
      "/_/ ///_/\\__, /_/ /_/\\___/_/     \n",
      "   / /  /____/_      _____  _____\n",
      "  / /   / __ \\ | /| / / _ \\/ ___/\n",
      " / /___/ /_/ / |/ |/ /  __/ /    \n",
      "/_____/\\____/|__/|__/\\___/_/     \n",
      "\n",
      "Sorry that's wrong. Final Score: 2\n"
     ]
    }
   ],
   "source": [
    "# Format the account data into a printable format.\n",
    "def format_data(account):\n",
    "    account_name = account[\"name\"]\n",
    "    account_desc = account[\"description\"]\n",
    "    account_country = account[\"country\"]\n",
    "    return f\"{account_name}, a {account_desc} from {account_country}\"\n",
    "\n",
    "\n",
    "# Check if the user is correct.\n",
    "def check_answer(guess, a_follower, b_follower):\n",
    "    if a_follower > b_follower:\n",
    "        return guess == \"a\"\n",
    "    else:\n",
    "        return guess == \"b\"\n",
    "        \n",
    "# Display art\n",
    "print(logo)\n",
    "score = 0\n",
    "\n",
    "should_continue = True\n",
    "account_b = rd.choice(data)\n",
    "\n",
    "# Make the game repeatable\n",
    "while should_continue:\n",
    "    # Generate a random account from the game data.\n",
    "    account_a = account_b\n",
    "    account_b = rd.choice(data)\n",
    "\n",
    "    while account_a == account_b:\n",
    "        account_b = rd.choice(data)\n",
    "\n",
    "    print(f\"Compare A: {format_data(account_a)}.\")\n",
    "    print (vs)\n",
    "    print(f\"Against B: {format_data(account_b)}.\")\n",
    "\n",
    "    #Ask user for a guess.\n",
    "    guess = input(\"Who has more followers? Type 'A' or 'B': \").lower()\n",
    "\n",
    "    # Check the follower count of each account.\n",
    "    a_follower = account_a[\"follower_count\"]\n",
    "    b_follower = account_b[\"follower_count\"]\n",
    "    is_correct = check_answer(guess, a_follower, b_follower)\n",
    "    \n",
    "    # Clear the screen  between rounds\n",
    "    clear_output()\n",
    "    print(logo)\n",
    "\n",
    "    # Give user feedback on their guess.\n",
    "    # Score keeping.\n",
    "    if is_correct:\n",
    "        score += 1\n",
    "        print(f\"You are correct! Current score: {score}\")\n",
    "    else:\n",
    "        should_continue = False\n",
    "        print(f\"Sorry that's wrong. Final Score: {score}\")\n",
    "\n",
    "\n",
    "\n"
   ]
  },
  {
   "cell_type": "code",
   "execution_count": null,
   "id": "b1aaaad8",
   "metadata": {},
   "outputs": [],
   "source": []
  }
 ],
 "metadata": {
  "kernelspec": {
   "display_name": "Python 3 (ipykernel)",
   "language": "python",
   "name": "python3"
  },
  "language_info": {
   "codemirror_mode": {
    "name": "ipython",
    "version": 3
   },
   "file_extension": ".py",
   "mimetype": "text/x-python",
   "name": "python",
   "nbconvert_exporter": "python",
   "pygments_lexer": "ipython3",
   "version": "3.10.11"
  }
 },
 "nbformat": 4,
 "nbformat_minor": 5
}
