{
 "cells": [
  {
   "cell_type": "code",
   "execution_count": 14,
   "id": "af076d65",
   "metadata": {},
   "outputs": [],
   "source": [
    "import random as rd\n",
    "import mymodule"
   ]
  },
  {
   "cell_type": "markdown",
   "id": "533d4b60",
   "metadata": {},
   "source": [
    "### Generating random integer numbers"
   ]
  },
  {
   "cell_type": "code",
   "execution_count": 12,
   "id": "216ede5b",
   "metadata": {
    "scrolled": true
   },
   "outputs": [
    {
     "name": "stdout",
     "output_type": "stream",
     "text": [
      "6\n"
     ]
    }
   ],
   "source": [
    "random_integer = rd.randint(1, 10)\n",
    "print(random_integer)"
   ]
  },
  {
   "cell_type": "code",
   "execution_count": 15,
   "id": "135dfb3d",
   "metadata": {},
   "outputs": [
    {
     "name": "stdout",
     "output_type": "stream",
     "text": [
      "3.142\n"
     ]
    }
   ],
   "source": [
    "print(mymodule.pi)"
   ]
  },
  {
   "cell_type": "markdown",
   "id": "258d4f93",
   "metadata": {},
   "source": [
    "### Generating random floating point numbers"
   ]
  },
  {
   "cell_type": "code",
   "execution_count": 42,
   "id": "064bb07f",
   "metadata": {},
   "outputs": [
    {
     "name": "stdout",
     "output_type": "stream",
     "text": [
      "0.18627301391799633\n"
     ]
    }
   ],
   "source": [
    "random_float = rd.random() * 5 #prints numbers between 0.0 and 5.0\n",
    "print(random_float)\n"
   ]
  },
  {
   "cell_type": "code",
   "execution_count": 50,
   "id": "ba952494",
   "metadata": {},
   "outputs": [
    {
     "name": "stdout",
     "output_type": "stream",
     "text": [
      "Your love score is 93\n"
     ]
    }
   ],
   "source": [
    "love_score = rd.randint(1, 100)\n",
    "print(f\"Your love score is {love_score}\")"
   ]
  },
  {
   "cell_type": "markdown",
   "id": "7ce1abf8",
   "metadata": {},
   "source": [
    "### Heads or Tails Exercise"
   ]
  },
  {
   "cell_type": "code",
   "execution_count": 68,
   "id": "8349b46f",
   "metadata": {},
   "outputs": [
    {
     "name": "stdout",
     "output_type": "stream",
     "text": [
      "Tails\n"
     ]
    }
   ],
   "source": [
    "random_integer = rd.randint(0, 1)\n",
    "\n",
    "if random_integer == 1:\n",
    "    print(\"Heads\")\n",
    "    \n",
    "else:\n",
    "    print(\"Tails\")"
   ]
  },
  {
   "cell_type": "markdown",
   "id": "e3608abb",
   "metadata": {},
   "source": [
    "### LIST"
   ]
  },
  {
   "cell_type": "code",
   "execution_count": 70,
   "id": "70de0e11",
   "metadata": {},
   "outputs": [
    {
     "name": "stdout",
     "output_type": "stream",
     "text": [
      "Delaware\n"
     ]
    }
   ],
   "source": [
    "statesOfAmerica = [\"Delaware\", \"Pennysylvania\"]\n",
    "print(statesOfAmerica[0])"
   ]
  },
  {
   "cell_type": "code",
   "execution_count": 71,
   "id": "1ef10f16",
   "metadata": {},
   "outputs": [
    {
     "name": "stdout",
     "output_type": "stream",
     "text": [
      "['Delaware', 'Pencilvania']\n"
     ]
    }
   ],
   "source": [
    "statesOfAmerica[1] = \"Pencilvania\"\n",
    "print(statesOfAmerica)"
   ]
  },
  {
   "cell_type": "code",
   "execution_count": 72,
   "id": "52b05866",
   "metadata": {},
   "outputs": [
    {
     "name": "stdout",
     "output_type": "stream",
     "text": [
      "['Delaware', 'Pencilvania', 'New Jersey']\n"
     ]
    }
   ],
   "source": [
    "statesOfAmerica.append(\"New Jersey\")\n",
    "print(statesOfAmerica)"
   ]
  },
  {
   "cell_type": "code",
   "execution_count": 73,
   "id": "a1e10074",
   "metadata": {},
   "outputs": [
    {
     "name": "stdout",
     "output_type": "stream",
     "text": [
      "['Delaware', 'Pencilvania', 'New Jersey', 'Georgia', 'Connecticut']\n"
     ]
    }
   ],
   "source": [
    "statesOfAmerica.extend([\"Georgia\", \"Connecticut\"])\n",
    "print(statesOfAmerica)"
   ]
  },
  {
   "cell_type": "markdown",
   "id": "84766005",
   "metadata": {},
   "source": [
    "### Banker Roulette Exercise"
   ]
  },
  {
   "cell_type": "code",
   "execution_count": 79,
   "id": "1c4b8b15",
   "metadata": {},
   "outputs": [
    {
     "name": "stdout",
     "output_type": "stream",
     "text": [
      "Give me everybody's names, separated by a comma.Bukky, James, Tope, Charles, John\n",
      " Tope is going to buy the meal today.\n"
     ]
    }
   ],
   "source": [
    "names_string = input(\"Give me everybody's names, separated by a comma.\")\n",
    "names = names_string.split(\",\")\n",
    "num_items = len(names)\n",
    "random_choice = rd.randint(0, num_items - 1)\n",
    "payee = names[random_choice]\n",
    "print(f\"{payee} is going to buy the meal today.\")"
   ]
  },
  {
   "cell_type": "code",
   "execution_count": 89,
   "id": "2fab1446",
   "metadata": {},
   "outputs": [
    {
     "name": "stdout",
     "output_type": "stream",
     "text": [
      " John is going to buy the meal today.\n"
     ]
    }
   ],
   "source": [
    "payee = rd.choice(names)\n",
    "print(f\"{payee} is going to buy the meal today.\")"
   ]
  },
  {
   "cell_type": "markdown",
   "id": "a61da65a",
   "metadata": {},
   "source": [
    "### Working with Nested Lists"
   ]
  },
  {
   "cell_type": "code",
   "execution_count": 91,
   "id": "e74bb365",
   "metadata": {},
   "outputs": [
    {
     "name": "stdout",
     "output_type": "stream",
     "text": [
      "[['Strawberries', 'Nectarines', 'Apples', 'Grapes', 'Peaches', 'Cherries', 'Pears'], ['Spinach', 'Kale', 'Tomatoes', 'Celery', 'Potatoes']]\n"
     ]
    }
   ],
   "source": [
    "#dirty_dozen = [\"Strawberries\", \"Spinach\", \"Kale\", \"Nectarines\", \"Apples\", \"Grapes\", \"Peaches\", \"Cherries\", \"Pears\", \"Tomatoes\", \"Celery\", \"Potatoes\"]\n",
    "\n",
    "fruits = [\"Strawberries\", \"Nectarines\", \"Apples\", \"Grapes\", \"Peaches\", \"Cherries\", \"Pears\"]\n",
    "vegetables = [\"Spinach\", \"Kale\", \"Tomatoes\", \"Celery\", \"Potatoes\"]\n",
    "\n",
    "dirty_dozen = [fruits, vegetables]\n",
    "print(dirty_dozen)"
   ]
  },
  {
   "cell_type": "markdown",
   "id": "6641abf9",
   "metadata": {},
   "source": [
    "### Rock, Paper and Scissors Project"
   ]
  },
  {
   "cell_type": "code",
   "execution_count": 1,
   "id": "06109948",
   "metadata": {},
   "outputs": [
    {
     "data": {
      "text/plain": [
       "\"\\n    _______\\n---'   ____)\\n      (_____)\\n      (_____)\\n      (____)\\n---.__(___)\\n\""
      ]
     },
     "execution_count": 1,
     "metadata": {},
     "output_type": "execute_result"
    }
   ],
   "source": [
    "rock = \"\"\"\n",
    "    _______\n",
    "---'   ____)\n",
    "      (_____)\n",
    "      (_____)\n",
    "      (____)\n",
    "---.__(___)\n",
    "\"\"\"\n",
    "\n",
    "# Paper\n",
    "paper = \"\"\"\n",
    "     _______\n",
    "---'    ____)____\n",
    "           ______)\n",
    "          _______)\n",
    "         _______)\n",
    "---.__________)\n",
    "\"\"\"\n",
    "\n",
    "# Scissors\n",
    "scissors = \"\"\"\n",
    "    _______\n",
    "---'   ____)____\n",
    "          ______)\n",
    "       __________)\n",
    "      (____)\n",
    "---.__(___)\n",
    "\"\"\"\n",
    "\n",
    "getImages = [rock, paper, scissors]\n",
    "getImages[0]"
   ]
  },
  {
   "cell_type": "code",
   "execution_count": 111,
   "id": "39b2251b",
   "metadata": {},
   "outputs": [
    {
     "name": "stdout",
     "output_type": "stream",
     "text": [
      "What do you want to choose? Type 0 for Rock, 1 for Paper or 2 for Scissors2\n",
      "Computer chose 0\n",
      "You lose!\n"
     ]
    }
   ],
   "source": [
    "user_choice = int(input(\"What do you want to choose? Type 0 for Rock, 1 for Paper or 2 for Scissors\"))\n",
    "\n",
    "computer_choice = rd.randint(0,2)\n",
    "print(f\"Computer chose {computer_choice}\")\n",
    "\n",
    "if user_choice >=3 or user_choice < 0:\n",
    "    print(\"You typed an invalid number, you lose!\")\n",
    "\n",
    "elif user_choice == 0 and computer_choice == 2:\n",
    "    print(\"You win!\")\n",
    "    \n",
    "elif user_choice == 2 and computer_choice == 0:\n",
    "    print(\"You lose!\")\n",
    "    \n",
    "elif computer_choice > user_choice:\n",
    "    print(\"You lose!\")\n",
    "    \n",
    "elif user_choice > computer_choice:\n",
    "    print(\"You win!\")\n",
    "    \n",
    "elif computer_choice == user_choice:\n",
    "    print(\"Its a draw!\")\n",
    "    \n",
    "elif user_choice >=3 or user_choice < 0:\n",
    "    print(\"You typed an invalid number, you lose!\")"
   ]
  }
 ],
 "metadata": {
  "kernelspec": {
   "display_name": "Python 3 (ipykernel)",
   "language": "python",
   "name": "python3"
  },
  "language_info": {
   "codemirror_mode": {
    "name": "ipython",
    "version": 3
   },
   "file_extension": ".py",
   "mimetype": "text/x-python",
   "name": "python",
   "nbconvert_exporter": "python",
   "pygments_lexer": "ipython3",
   "version": "3.10.11"
  }
 },
 "nbformat": 4,
 "nbformat_minor": 5
}
